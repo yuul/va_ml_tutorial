{
 "cells": [
  {
   "cell_type": "markdown",
   "metadata": {},
   "source": [
    "# Week One\n",
    "\n",
    "This is a jupyter notebook to teach introductory linear regression\n",
    "Much of this tutorial is inspired by the tutorial found here https://github.com/ageron/handson-ml/blob/master/02_end_to_end_machine_learning_project.ipynb"
   ]
  },
  {
   "cell_type": "code",
   "execution_count": 66,
   "metadata": {},
   "outputs": [
    {
     "name": "stdout",
     "output_type": "stream",
     "text": [
      "Press shift + enter to run this cell!\n"
     ]
    }
   ],
   "source": [
    "print(\"Press shift + enter to run this cell!\")"
   ]
  },
  {
   "cell_type": "code",
   "execution_count": 67,
   "metadata": {},
   "outputs": [],
   "source": [
    "# import statements\n",
    "import numpy as np\n",
    "# import os"
   ]
  },
  {
   "cell_type": "code",
   "execution_count": 68,
   "metadata": {},
   "outputs": [],
   "source": [
    "# configures the plots\n",
    "%matplotlib inline\n",
    "import matplotlib\n",
    "import matplotlib.pyplot as plt\n",
    "plt.rcParams['axes.labelsize'] = 14\n",
    "plt.rcParams['xtick.labelsize'] = 12\n",
    "plt.rcParams['ytick.labelsize'] = 12"
   ]
  },
  {
   "cell_type": "code",
   "execution_count": 69,
   "metadata": {},
   "outputs": [],
   "source": [
    "# opens the data\n",
    "import pandas as pd\n",
    "def get_data():\n",
    "    path_csv = \"housing.csv\"\n",
    "    return pd.read_csv(path_csv)"
   ]
  },
  {
   "cell_type": "code",
   "execution_count": 70,
   "metadata": {},
   "outputs": [],
   "source": [
    "housing = get_data()"
   ]
  },
  {
   "cell_type": "code",
   "execution_count": 71,
   "metadata": {},
   "outputs": [
    {
     "data": {
      "text/html": [
       "<div>\n",
       "<style scoped>\n",
       "    .dataframe tbody tr th:only-of-type {\n",
       "        vertical-align: middle;\n",
       "    }\n",
       "\n",
       "    .dataframe tbody tr th {\n",
       "        vertical-align: top;\n",
       "    }\n",
       "\n",
       "    .dataframe thead th {\n",
       "        text-align: right;\n",
       "    }\n",
       "</style>\n",
       "<table border=\"1\" class=\"dataframe\">\n",
       "  <thead>\n",
       "    <tr style=\"text-align: right;\">\n",
       "      <th></th>\n",
       "      <th>longitude</th>\n",
       "      <th>latitude</th>\n",
       "      <th>housing_median_age</th>\n",
       "      <th>total_rooms</th>\n",
       "      <th>total_bedrooms</th>\n",
       "      <th>population</th>\n",
       "      <th>households</th>\n",
       "      <th>median_income</th>\n",
       "      <th>median_house_value</th>\n",
       "      <th>ocean_proximity</th>\n",
       "    </tr>\n",
       "  </thead>\n",
       "  <tbody>\n",
       "    <tr>\n",
       "      <th>0</th>\n",
       "      <td>-122.23</td>\n",
       "      <td>37.88</td>\n",
       "      <td>41.0</td>\n",
       "      <td>880.0</td>\n",
       "      <td>129.0</td>\n",
       "      <td>322.0</td>\n",
       "      <td>126.0</td>\n",
       "      <td>8.3252</td>\n",
       "      <td>452600.0</td>\n",
       "      <td>NEAR BAY</td>\n",
       "    </tr>\n",
       "    <tr>\n",
       "      <th>1</th>\n",
       "      <td>-122.22</td>\n",
       "      <td>37.86</td>\n",
       "      <td>21.0</td>\n",
       "      <td>7099.0</td>\n",
       "      <td>1106.0</td>\n",
       "      <td>2401.0</td>\n",
       "      <td>1138.0</td>\n",
       "      <td>8.3014</td>\n",
       "      <td>358500.0</td>\n",
       "      <td>NEAR BAY</td>\n",
       "    </tr>\n",
       "    <tr>\n",
       "      <th>2</th>\n",
       "      <td>-122.24</td>\n",
       "      <td>37.85</td>\n",
       "      <td>52.0</td>\n",
       "      <td>1467.0</td>\n",
       "      <td>190.0</td>\n",
       "      <td>496.0</td>\n",
       "      <td>177.0</td>\n",
       "      <td>7.2574</td>\n",
       "      <td>352100.0</td>\n",
       "      <td>NEAR BAY</td>\n",
       "    </tr>\n",
       "    <tr>\n",
       "      <th>3</th>\n",
       "      <td>-122.25</td>\n",
       "      <td>37.85</td>\n",
       "      <td>52.0</td>\n",
       "      <td>1274.0</td>\n",
       "      <td>235.0</td>\n",
       "      <td>558.0</td>\n",
       "      <td>219.0</td>\n",
       "      <td>5.6431</td>\n",
       "      <td>341300.0</td>\n",
       "      <td>NEAR BAY</td>\n",
       "    </tr>\n",
       "    <tr>\n",
       "      <th>4</th>\n",
       "      <td>-122.25</td>\n",
       "      <td>37.85</td>\n",
       "      <td>52.0</td>\n",
       "      <td>1627.0</td>\n",
       "      <td>280.0</td>\n",
       "      <td>565.0</td>\n",
       "      <td>259.0</td>\n",
       "      <td>3.8462</td>\n",
       "      <td>342200.0</td>\n",
       "      <td>NEAR BAY</td>\n",
       "    </tr>\n",
       "  </tbody>\n",
       "</table>\n",
       "</div>"
      ],
      "text/plain": [
       "   longitude  latitude  housing_median_age  total_rooms  total_bedrooms  \\\n",
       "0    -122.23     37.88                41.0        880.0           129.0   \n",
       "1    -122.22     37.86                21.0       7099.0          1106.0   \n",
       "2    -122.24     37.85                52.0       1467.0           190.0   \n",
       "3    -122.25     37.85                52.0       1274.0           235.0   \n",
       "4    -122.25     37.85                52.0       1627.0           280.0   \n",
       "\n",
       "   population  households  median_income  median_house_value ocean_proximity  \n",
       "0       322.0       126.0         8.3252            452600.0        NEAR BAY  \n",
       "1      2401.0      1138.0         8.3014            358500.0        NEAR BAY  \n",
       "2       496.0       177.0         7.2574            352100.0        NEAR BAY  \n",
       "3       558.0       219.0         5.6431            341300.0        NEAR BAY  \n",
       "4       565.0       259.0         3.8462            342200.0        NEAR BAY  "
      ]
     },
     "execution_count": 71,
     "metadata": {},
     "output_type": "execute_result"
    }
   ],
   "source": [
    "housing.head()"
   ]
  },
  {
   "cell_type": "code",
   "execution_count": 72,
   "metadata": {},
   "outputs": [
    {
     "name": "stdout",
     "output_type": "stream",
     "text": [
      "<class 'pandas.core.frame.DataFrame'>\n",
      "RangeIndex: 20640 entries, 0 to 20639\n",
      "Data columns (total 10 columns):\n",
      "longitude             20640 non-null float64\n",
      "latitude              20640 non-null float64\n",
      "housing_median_age    20640 non-null float64\n",
      "total_rooms           20640 non-null float64\n",
      "total_bedrooms        20433 non-null float64\n",
      "population            20640 non-null float64\n",
      "households            20640 non-null float64\n",
      "median_income         20640 non-null float64\n",
      "median_house_value    20640 non-null float64\n",
      "ocean_proximity       20640 non-null object\n",
      "dtypes: float64(9), object(1)\n",
      "memory usage: 1.6+ MB\n"
     ]
    }
   ],
   "source": [
    "housing.info()"
   ]
  },
  {
   "cell_type": "code",
   "execution_count": 73,
   "metadata": {},
   "outputs": [
    {
     "name": "stdout",
     "output_type": "stream",
     "text": [
      "16512 train + 4128 test\n"
     ]
    }
   ],
   "source": [
    "from sklearn.model_selection import train_test_split\n",
    "\n",
    "train_set, test_set = train_test_split(housing, test_size=0.2)\n",
    "print(len(train_set), \"train +\", len(test_set), \"test\")"
   ]
  },
  {
   "cell_type": "code",
   "execution_count": 74,
   "metadata": {},
   "outputs": [
    {
     "data": {
      "text/html": [
       "<div>\n",
       "<style scoped>\n",
       "    .dataframe tbody tr th:only-of-type {\n",
       "        vertical-align: middle;\n",
       "    }\n",
       "\n",
       "    .dataframe tbody tr th {\n",
       "        vertical-align: top;\n",
       "    }\n",
       "\n",
       "    .dataframe thead th {\n",
       "        text-align: right;\n",
       "    }\n",
       "</style>\n",
       "<table border=\"1\" class=\"dataframe\">\n",
       "  <thead>\n",
       "    <tr style=\"text-align: right;\">\n",
       "      <th></th>\n",
       "      <th>longitude</th>\n",
       "      <th>latitude</th>\n",
       "      <th>housing_median_age</th>\n",
       "      <th>total_rooms</th>\n",
       "      <th>total_bedrooms</th>\n",
       "      <th>population</th>\n",
       "      <th>households</th>\n",
       "      <th>median_income</th>\n",
       "      <th>median_house_value</th>\n",
       "      <th>ocean_proximity</th>\n",
       "    </tr>\n",
       "  </thead>\n",
       "  <tbody>\n",
       "    <tr>\n",
       "      <th>5808</th>\n",
       "      <td>-118.26</td>\n",
       "      <td>34.14</td>\n",
       "      <td>6.0</td>\n",
       "      <td>1727.0</td>\n",
       "      <td>506.0</td>\n",
       "      <td>1200.0</td>\n",
       "      <td>439.0</td>\n",
       "      <td>4.1083</td>\n",
       "      <td>210700.0</td>\n",
       "      <td>&lt;1H OCEAN</td>\n",
       "    </tr>\n",
       "    <tr>\n",
       "      <th>1949</th>\n",
       "      <td>-120.86</td>\n",
       "      <td>38.75</td>\n",
       "      <td>15.0</td>\n",
       "      <td>1533.0</td>\n",
       "      <td>300.0</td>\n",
       "      <td>674.0</td>\n",
       "      <td>287.0</td>\n",
       "      <td>2.5625</td>\n",
       "      <td>146100.0</td>\n",
       "      <td>INLAND</td>\n",
       "    </tr>\n",
       "    <tr>\n",
       "      <th>15379</th>\n",
       "      <td>-117.25</td>\n",
       "      <td>33.36</td>\n",
       "      <td>6.0</td>\n",
       "      <td>3725.0</td>\n",
       "      <td>960.0</td>\n",
       "      <td>2833.0</td>\n",
       "      <td>915.0</td>\n",
       "      <td>2.3214</td>\n",
       "      <td>247000.0</td>\n",
       "      <td>&lt;1H OCEAN</td>\n",
       "    </tr>\n",
       "    <tr>\n",
       "      <th>10876</th>\n",
       "      <td>-117.88</td>\n",
       "      <td>33.73</td>\n",
       "      <td>32.0</td>\n",
       "      <td>1947.0</td>\n",
       "      <td>355.0</td>\n",
       "      <td>1786.0</td>\n",
       "      <td>332.0</td>\n",
       "      <td>4.5726</td>\n",
       "      <td>177500.0</td>\n",
       "      <td>&lt;1H OCEAN</td>\n",
       "    </tr>\n",
       "    <tr>\n",
       "      <th>4248</th>\n",
       "      <td>-118.32</td>\n",
       "      <td>34.14</td>\n",
       "      <td>23.0</td>\n",
       "      <td>4574.0</td>\n",
       "      <td>1423.0</td>\n",
       "      <td>1624.0</td>\n",
       "      <td>995.0</td>\n",
       "      <td>4.0965</td>\n",
       "      <td>500001.0</td>\n",
       "      <td>&lt;1H OCEAN</td>\n",
       "    </tr>\n",
       "  </tbody>\n",
       "</table>\n",
       "</div>"
      ],
      "text/plain": [
       "       longitude  latitude  housing_median_age  total_rooms  total_bedrooms  \\\n",
       "5808     -118.26     34.14                 6.0       1727.0           506.0   \n",
       "1949     -120.86     38.75                15.0       1533.0           300.0   \n",
       "15379    -117.25     33.36                 6.0       3725.0           960.0   \n",
       "10876    -117.88     33.73                32.0       1947.0           355.0   \n",
       "4248     -118.32     34.14                23.0       4574.0          1423.0   \n",
       "\n",
       "       population  households  median_income  median_house_value  \\\n",
       "5808       1200.0       439.0         4.1083            210700.0   \n",
       "1949        674.0       287.0         2.5625            146100.0   \n",
       "15379      2833.0       915.0         2.3214            247000.0   \n",
       "10876      1786.0       332.0         4.5726            177500.0   \n",
       "4248       1624.0       995.0         4.0965            500001.0   \n",
       "\n",
       "      ocean_proximity  \n",
       "5808        <1H OCEAN  \n",
       "1949           INLAND  \n",
       "15379       <1H OCEAN  \n",
       "10876       <1H OCEAN  \n",
       "4248        <1H OCEAN  "
      ]
     },
     "execution_count": 74,
     "metadata": {},
     "output_type": "execute_result"
    }
   ],
   "source": [
    "train_set.head()"
   ]
  },
  {
   "cell_type": "code",
   "execution_count": 75,
   "metadata": {},
   "outputs": [],
   "source": [
    "# for set_ in (train_set, test_set):\n",
    "#    set_.drop(\"ocean_proximity\", axis=1)\n",
    "train_set = train_set.drop(\"ocean_proximity\", axis=1)\n",
    "test_set = test_set.drop(\"ocean_proximity\", axis=1)\n",
    "\n",
    "housing_train = train_set.drop(\"median_house_value\", axis=1) # drop labels for training set\n",
    "housing_labels = train_set[\"median_house_value\"].copy()\n",
    "\n",
    "housing_test = train_set.drop(\"median_house_value\", axis=1) # drop labels for test\n",
    "housing_test_labels = test_set[\"median_house_value\"].copy()"
   ]
  },
  {
   "cell_type": "code",
   "execution_count": 76,
   "metadata": {},
   "outputs": [
    {
     "data": {
      "text/html": [
       "<div>\n",
       "<style scoped>\n",
       "    .dataframe tbody tr th:only-of-type {\n",
       "        vertical-align: middle;\n",
       "    }\n",
       "\n",
       "    .dataframe tbody tr th {\n",
       "        vertical-align: top;\n",
       "    }\n",
       "\n",
       "    .dataframe thead th {\n",
       "        text-align: right;\n",
       "    }\n",
       "</style>\n",
       "<table border=\"1\" class=\"dataframe\">\n",
       "  <thead>\n",
       "    <tr style=\"text-align: right;\">\n",
       "      <th></th>\n",
       "      <th>longitude</th>\n",
       "      <th>latitude</th>\n",
       "      <th>housing_median_age</th>\n",
       "      <th>total_rooms</th>\n",
       "      <th>total_bedrooms</th>\n",
       "      <th>population</th>\n",
       "      <th>households</th>\n",
       "      <th>median_income</th>\n",
       "      <th>median_house_value</th>\n",
       "    </tr>\n",
       "  </thead>\n",
       "  <tbody>\n",
       "    <tr>\n",
       "      <th>5808</th>\n",
       "      <td>-118.26</td>\n",
       "      <td>34.14</td>\n",
       "      <td>6.0</td>\n",
       "      <td>1727.0</td>\n",
       "      <td>506.0</td>\n",
       "      <td>1200.0</td>\n",
       "      <td>439.0</td>\n",
       "      <td>4.1083</td>\n",
       "      <td>210700.0</td>\n",
       "    </tr>\n",
       "    <tr>\n",
       "      <th>1949</th>\n",
       "      <td>-120.86</td>\n",
       "      <td>38.75</td>\n",
       "      <td>15.0</td>\n",
       "      <td>1533.0</td>\n",
       "      <td>300.0</td>\n",
       "      <td>674.0</td>\n",
       "      <td>287.0</td>\n",
       "      <td>2.5625</td>\n",
       "      <td>146100.0</td>\n",
       "    </tr>\n",
       "    <tr>\n",
       "      <th>15379</th>\n",
       "      <td>-117.25</td>\n",
       "      <td>33.36</td>\n",
       "      <td>6.0</td>\n",
       "      <td>3725.0</td>\n",
       "      <td>960.0</td>\n",
       "      <td>2833.0</td>\n",
       "      <td>915.0</td>\n",
       "      <td>2.3214</td>\n",
       "      <td>247000.0</td>\n",
       "    </tr>\n",
       "    <tr>\n",
       "      <th>10876</th>\n",
       "      <td>-117.88</td>\n",
       "      <td>33.73</td>\n",
       "      <td>32.0</td>\n",
       "      <td>1947.0</td>\n",
       "      <td>355.0</td>\n",
       "      <td>1786.0</td>\n",
       "      <td>332.0</td>\n",
       "      <td>4.5726</td>\n",
       "      <td>177500.0</td>\n",
       "    </tr>\n",
       "    <tr>\n",
       "      <th>4248</th>\n",
       "      <td>-118.32</td>\n",
       "      <td>34.14</td>\n",
       "      <td>23.0</td>\n",
       "      <td>4574.0</td>\n",
       "      <td>1423.0</td>\n",
       "      <td>1624.0</td>\n",
       "      <td>995.0</td>\n",
       "      <td>4.0965</td>\n",
       "      <td>500001.0</td>\n",
       "    </tr>\n",
       "  </tbody>\n",
       "</table>\n",
       "</div>"
      ],
      "text/plain": [
       "       longitude  latitude  housing_median_age  total_rooms  total_bedrooms  \\\n",
       "5808     -118.26     34.14                 6.0       1727.0           506.0   \n",
       "1949     -120.86     38.75                15.0       1533.0           300.0   \n",
       "15379    -117.25     33.36                 6.0       3725.0           960.0   \n",
       "10876    -117.88     33.73                32.0       1947.0           355.0   \n",
       "4248     -118.32     34.14                23.0       4574.0          1423.0   \n",
       "\n",
       "       population  households  median_income  median_house_value  \n",
       "5808       1200.0       439.0         4.1083            210700.0  \n",
       "1949        674.0       287.0         2.5625            146100.0  \n",
       "15379      2833.0       915.0         2.3214            247000.0  \n",
       "10876      1786.0       332.0         4.5726            177500.0  \n",
       "4248       1624.0       995.0         4.0965            500001.0  "
      ]
     },
     "execution_count": 76,
     "metadata": {},
     "output_type": "execute_result"
    }
   ],
   "source": [
    "train_set.head()"
   ]
  },
  {
   "cell_type": "code",
   "execution_count": 77,
   "metadata": {},
   "outputs": [],
   "source": [
    "sample_incomplete_rows  = housing[housing.isnull().any(axis=1)].head()\n",
    "sample_incomplete_rows\n",
    "from sklearn.preprocessing import Imputer\n",
    "\n",
    "imputer = Imputer(strategy=\"median\")\n",
    "imputer.fit(housing_train)\n",
    "housing_train = imputer.transform(housing_train)"
   ]
  },
  {
   "cell_type": "code",
   "execution_count": 78,
   "metadata": {},
   "outputs": [
    {
     "data": {
      "text/plain": [
       "LinearRegression(copy_X=True, fit_intercept=True, n_jobs=1, normalize=False)"
      ]
     },
     "execution_count": 78,
     "metadata": {},
     "output_type": "execute_result"
    }
   ],
   "source": [
    "from sklearn.linear_model import LinearRegression\n",
    "\n",
    "lin_reg = LinearRegression()\n",
    "lin_reg.fit(housing_train, housing_labels)"
   ]
  },
  {
   "cell_type": "code",
   "execution_count": 79,
   "metadata": {},
   "outputs": [
    {
     "name": "stdout",
     "output_type": "stream",
     "text": [
      "Predictions: [ 206234.07572305   62599.15486262  121422.11740964  210686.84962426\n",
      "  313032.58878297]\n",
      "Labels: 5808     210700.0\n",
      "1949     146100.0\n",
      "15379    247000.0\n",
      "10876    177500.0\n",
      "4248     500001.0\n",
      "Name: median_house_value, dtype: float64\n"
     ]
    }
   ],
   "source": [
    "print(\"Predictions:\", lin_reg.predict(housing_train[:5]))\n",
    "print(\"Labels:\", housing_labels[:5])"
   ]
  },
  {
   "cell_type": "code",
   "execution_count": null,
   "metadata": {},
   "outputs": [],
   "source": []
  }
 ],
 "metadata": {
  "kernelspec": {
   "display_name": "Python 3",
   "language": "python",
   "name": "python3"
  },
  "language_info": {
   "codemirror_mode": {
    "name": "ipython",
    "version": 3
   },
   "file_extension": ".py",
   "mimetype": "text/x-python",
   "name": "python",
   "nbconvert_exporter": "python",
   "pygments_lexer": "ipython3",
   "version": "3.6.4"
  }
 },
 "nbformat": 4,
 "nbformat_minor": 2
}
