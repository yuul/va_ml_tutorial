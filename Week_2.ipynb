{
 "cells": [
  {
   "cell_type": "markdown",
   "metadata": {},
   "source": [
    "# Week 2\n",
    "I am introducing the concepts of Linear Regression and Gradient Descent in this tutorial. I will also introduce concepts with Regularization. Most of this is based on material from this tutorial https://github.com/ageron/handson-ml/blob/master/04_training_linear_models.ipynb"
   ]
  },
  {
   "cell_type": "code",
   "execution_count": 1,
   "metadata": {},
   "outputs": [],
   "source": [
    "import numpy as np\n",
    "np.random.seed(32) # to make the random generation consistent"
   ]
  },
  {
   "cell_type": "code",
   "execution_count": 2,
   "metadata": {},
   "outputs": [],
   "source": [
    "# This is the plotting library\n",
    "%matplotlib inline\n",
    "import matplotlib\n",
    "import matplotlib.pyplot as plt\n",
    "plt.rcParams['axes.labelsize'] = 14\n",
    "plt.rcParams['xtick.labelsize'] = 12\n",
    "plt.rcParams['ytick.labelsize'] = 12"
   ]
  },
  {
   "cell_type": "markdown",
   "metadata": {},
   "source": [
    "# Linear Regression by Normal Equations"
   ]
  },
  {
   "cell_type": "code",
   "execution_count": 3,
   "metadata": {},
   "outputs": [],
   "source": [
    "# generates the data\n",
    "X = 2 * np.random.rand(100, 1) # 100 points from 0-1\n",
    "y = 4 + 3 * X + np.random.randn(100, 1) # transforms every X value"
   ]
  },
  {
   "cell_type": "code",
   "execution_count": 4,
   "metadata": {},
   "outputs": [
    {
     "data": {
      "image/png": "[encoded data removed]",
      "text/plain": [
       "<matplotlib.figure.Figure at 0x22fc1941240>"
      ]
     },
     "metadata": {},
     "output_type": "display_data"
    }
   ],
   "source": [
    "# plots the data\n",
    "plt.plot(X,y,\"b.\")\n",
    "plt.xlabel(\"$x_1$\", fontsize=18)\n",
    "plt.ylabel(\"$y$\", rotation=0, fontsize=18)\n",
    "plt.axis([0, 2, 0, 15])\n",
    "plt.show()"
   ]
  },
  {
   "cell_type": "code",
   "execution_count": 5,
   "metadata": {},
   "outputs": [],
   "source": [
    "X_b = np.c_[np.ones((100, 1)), X]    # add x0 = 1 to each instance# add x \n",
    "theta_best = np.linalg.inv(X_b.T.dot(X_b)).dot(X_b.T).dot(y) # calculates the normal equation"
   ]
  },
  {
   "cell_type": "code",
   "execution_count": 6,
   "metadata": {},
   "outputs": [
    {
     "data": {
      "text/plain": [
       "array([[ 1.        ,  1.71777853],\n",
       "       [ 1.        ,  0.74542231],\n",
       "       [ 1.        ,  1.11025756],\n",
       "       [ 1.        ,  1.9113131 ],\n",
       "       [ 1.        ,  1.4733392 ],\n",
       "       [ 1.        ,  1.63241028],\n",
       "       [ 1.        ,  0.20217312],\n",
       "       [ 1.        ,  1.85697614],\n",
       "       [ 1.        ,  1.21821834],\n",
       "       [ 1.        ,  1.19310687],\n",
       "       [ 1.        ,  0.18356827],\n",
       "       [ 1.        ,  0.69037249],\n",
       "       [ 1.        ,  1.32550505],\n",
       "       [ 1.        ,  0.88342698],\n",
       "       [ 1.        ,  1.10297557],\n",
       "       [ 1.        ,  1.40742498],\n",
       "       [ 1.        ,  1.17880246],\n",
       "       [ 1.        ,  0.09986552],\n",
       "       [ 1.        ,  1.12358368],\n",
       "       [ 1.        ,  1.53271694],\n",
       "       [ 1.        ,  1.82181666],\n",
       "       [ 1.        ,  0.18581989],\n",
       "       [ 1.        ,  1.80504278],\n",
       "       [ 1.        ,  0.92192081],\n",
       "       [ 1.        ,  0.90403694],\n",
       "       [ 1.        ,  1.99885097],\n",
       "       [ 1.        ,  0.32484749],\n",
       "       [ 1.        ,  1.41874117],\n",
       "       [ 1.        ,  0.32124815],\n",
       "       [ 1.        ,  1.62155354],\n",
       "       [ 1.        ,  0.07029435],\n",
       "       [ 1.        ,  1.06977346],\n",
       "       [ 1.        ,  0.33300025],\n",
       "       [ 1.        ,  0.61682076],\n",
       "       [ 1.        ,  0.09012483],\n",
       "       [ 1.        ,  0.47715225],\n",
       "       [ 1.        ,  1.34966906],\n",
       "       [ 1.        ,  1.5647655 ],\n",
       "       [ 1.        ,  1.39040327],\n",
       "       [ 1.        ,  0.6579089 ],\n",
       "       [ 1.        ,  0.98806373],\n",
       "       [ 1.        ,  1.04824273],\n",
       "       [ 1.        ,  0.59708249],\n",
       "       [ 1.        ,  0.92621628],\n",
       "       [ 1.        ,  1.96956859],\n",
       "       [ 1.        ,  1.00226984],\n",
       "       [ 1.        ,  0.79614489],\n",
       "       [ 1.        ,  1.45581063],\n",
       "       [ 1.        ,  1.72666194],\n",
       "       [ 1.        ,  0.05233907],\n",
       "       [ 1.        ,  0.58003436],\n",
       "       [ 1.        ,  1.57813839],\n",
       "       [ 1.        ,  0.91423934],\n",
       "       [ 1.        ,  0.01385696],\n",
       "       [ 1.        ,  0.83867091],\n",
       "       [ 1.        ,  0.66134953],\n",
       "       [ 1.        ,  1.20830426],\n",
       "       [ 1.        ,  0.64924167],\n",
       "       [ 1.        ,  1.96250216],\n",
       "       [ 1.        ,  1.1764639 ],\n",
       "       [ 1.        ,  0.2621839 ],\n",
       "       [ 1.        ,  1.04195541],\n",
       "       [ 1.        ,  0.7159568 ],\n",
       "       [ 1.        ,  0.02999995],\n",
       "       [ 1.        ,  0.19285981],\n",
       "       [ 1.        ,  1.56846957],\n",
       "       [ 1.        ,  0.85400609],\n",
       "       [ 1.        ,  0.39590365],\n",
       "       [ 1.        ,  1.24820305],\n",
       "       [ 1.        ,  1.28057788],\n",
       "       [ 1.        ,  0.5414055 ],\n",
       "       [ 1.        ,  0.25963557],\n",
       "       [ 1.        ,  0.94544623],\n",
       "       [ 1.        ,  0.78125295],\n",
       "       [ 1.        ,  0.81016023],\n",
       "       [ 1.        ,  0.75229808],\n",
       "       [ 1.        ,  0.5843495 ],\n",
       "       [ 1.        ,  1.10576518],\n",
       "       [ 1.        ,  0.86237122],\n",
       "       [ 1.        ,  1.56752326],\n",
       "       [ 1.        ,  1.40154639],\n",
       "       [ 1.        ,  1.55281891],\n",
       "       [ 1.        ,  0.57565909],\n",
       "       [ 1.        ,  0.42062909],\n",
       "       [ 1.        ,  1.00822705],\n",
       "       [ 1.        ,  0.26625027],\n",
       "       [ 1.        ,  0.34272774],\n",
       "       [ 1.        ,  0.49092844],\n",
       "       [ 1.        ,  0.08532708],\n",
       "       [ 1.        ,  0.45277371],\n",
       "       [ 1.        ,  1.25146424],\n",
       "       [ 1.        ,  1.26864607],\n",
       "       [ 1.        ,  1.06587935],\n",
       "       [ 1.        ,  1.4707711 ],\n",
       "       [ 1.        ,  1.63033118],\n",
       "       [ 1.        ,  0.74971235],\n",
       "       [ 1.        ,  1.60984502],\n",
       "       [ 1.        ,  1.7592988 ],\n",
       "       [ 1.        ,  1.17377848],\n",
       "       [ 1.        ,  1.31169471]])"
      ]
     },
     "execution_count": 6,
     "metadata": {},
     "output_type": "execute_result"
    }
   ],
   "source": [
    "X_b"
   ]
  },
  {
   "cell_type": "code",
   "execution_count": 7,
   "metadata": {},
   "outputs": [
    {
     "data": {
      "text/plain": [
       "array([[ 4.16647368],\n",
       "       [ 2.92394329]])"
      ]
     },
     "execution_count": 7,
     "metadata": {},
     "output_type": "execute_result"
    }
   ],
   "source": [
    "theta_best"
   ]
  },
  {
   "cell_type": "code",
   "execution_count": 11,
   "metadata": {},
   "outputs": [
    {
     "name": "stdout",
     "output_type": "stream",
     "text": [
      "[[ 1.  0.]\n",
      " [ 1.  2.]]\n"
     ]
    },
    {
     "data": {
      "text/plain": [
       "array([[  4.16647368],\n",
       "       [ 10.01436026]])"
      ]
     },
     "execution_count": 11,
     "metadata": {},
     "output_type": "execute_result"
    }
   ],
   "source": [
    "X_new = np.array([[0], [2]])\n",
    "X_new_b = np.c_[np.ones((2, 1)), X_new]  # add x0 = 1 to each instance\n",
    "print(X_new_b)\n",
    "y_predict = X_new_b.dot(theta_best)\n",
    "y_predict"
   ]
  },
  {
   "cell_type": "code",
   "execution_count": 12,
   "metadata": {},
   "outputs": [
    {
     "data": {
      "image/png": "[encoded data removed]",
      "text/plain": [
       "<matplotlib.figure.Figure at 0x22fc1ab50b8>"
      ]
     },
     "metadata": {},
     "output_type": "display_data"
    }
   ],
   "source": [
    "plt.plot(X_new, y_predict, \"r-\")\n",
    "plt.plot(X, y, \"b.\")\n",
    "plt.axis([0, 2, 0, 15])\n",
    "plt.show()"
   ]
  },
  {
   "cell_type": "markdown",
   "metadata": {},
   "source": [
    "# Linear Regression through Gradient Descent"
   ]
  },
  {
   "cell_type": "code",
   "execution_count": 13,
   "metadata": {},
   "outputs": [
    {
     "data": {
      "text/plain": [
       "(array([ 4.16647368]), array([[ 2.92394329]]))"
      ]
     },
     "execution_count": 13,
     "metadata": {},
     "output_type": "execute_result"
    }
   ],
   "source": [
    "from sklearn.linear_model import LinearRegression\n",
    "lin_reg = LinearRegression()\n",
    "lin_reg.fit(X, y)\n",
    "lin_reg.intercept_, lin_reg.coef_"
   ]
  },
  {
   "cell_type": "code",
   "execution_count": 14,
   "metadata": {},
   "outputs": [
    {
     "data": {
      "text/plain": [
       "array([[  4.16647368],\n",
       "       [ 10.01436026]])"
      ]
     },
     "execution_count": 14,
     "metadata": {},
     "output_type": "execute_result"
    }
   ],
   "source": [
    "lin_reg.predict(X_new)"
   ]
  },
  {
   "cell_type": "code",
   "execution_count": null,
   "metadata": {},
   "outputs": [],
   "source": []
  }
 ],
 "metadata": {
  "kernelspec": {
   "display_name": "Python 3",
   "language": "python",
   "name": "python3"
  },
  "language_info": {
   "codemirror_mode": {
    "name": "ipython",
    "version": 3
   },
   "file_extension": ".py",
   "mimetype": "text/x-python",
   "name": "python",
   "nbconvert_exporter": "python",
   "pygments_lexer": "ipython3",
   "version": "3.6.4"
  }
 },
 "nbformat": 4,
 "nbformat_minor": 2
}
